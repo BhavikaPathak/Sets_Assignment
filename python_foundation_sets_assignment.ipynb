{
 "cells": [
  {
   "cell_type": "markdown",
   "id": "f2b5dc1d-1034-4b43-b59e-e41d86f7293a",
   "metadata": {},
   "source": [
    "# ANSWER 1 \n",
    "IN Python , A set is an unordered collection of unique elements. It is defined by enclosing comma-separated elements within curly braces {} or by using the set() constructor function."
   ]
  },
  {
   "cell_type": "code",
   "execution_count": 6,
   "id": "c0ad80d7-cf28-46cf-a5d8-eb7f24f73279",
   "metadata": {},
   "outputs": [
    {
     "data": {
      "text/plain": [
       "{1, 2, 5}"
      ]
     },
     "execution_count": 6,
     "metadata": {},
     "output_type": "execute_result"
    }
   ],
   "source": [
    "#                                      ANSWER 2\n",
    "# In Python, you can create a set by enclosing comma-separated elements within curly braces {} or by using the set() constructor function. \n",
    "my_set = {1,2,2,5,5}\n",
    "my_set"
   ]
  },
  {
   "cell_type": "markdown",
   "id": "5d8913db-feca-4793-b894-994be4e49bf3",
   "metadata": {},
   "source": [
    "#                                   ANSWER 3 \n",
    "In Python, you can add elements to a set using the add() method or by using the update() method."
   ]
  },
  {
   "cell_type": "code",
   "execution_count": 9,
   "id": "e918b75b-ef60-4e7b-986d-6a0e0c118b44",
   "metadata": {},
   "outputs": [
    {
     "name": "stdout",
     "output_type": "stream",
     "text": [
      "{1, 2, 3, 45}\n"
     ]
    }
   ],
   "source": [
    "# ANSWER 3 CONTINUE EXAMPLE \n",
    "my_set1 = {1, 2, 3}  \n",
    "my_set1.add(45)  \n",
    "print(my_set1)  "
   ]
  },
  {
   "cell_type": "code",
   "execution_count": 11,
   "id": "392d8833-4cac-4478-8346-72db068b296b",
   "metadata": {},
   "outputs": [
    {
     "name": "stdout",
     "output_type": "stream",
     "text": [
      "{1, 2, 3, 4, 5, 6}\n"
     ]
    }
   ],
   "source": [
    "# ANSWER 3 CONTINUE EXAMPLE \n",
    "my_set2 = {1, 2, 3}  \n",
    "my_set2.update([4, 5, 6]) \n",
    "print(my_set2)"
   ]
  },
  {
   "cell_type": "code",
   "execution_count": 13,
   "id": "94601da3-fbda-4c64-937a-ae1fb1c19ea0",
   "metadata": {},
   "outputs": [
    {
     "name": "stdout",
     "output_type": "stream",
     "text": [
      "{1, 2, 4, 5, 6}\n"
     ]
    }
   ],
   "source": [
    "#                                             ANSWER 4\n",
    "my_set2.remove(3)  \n",
    "print(my_set2)"
   ]
  },
  {
   "cell_type": "code",
   "execution_count": 17,
   "id": "7ea28853-5ff5-4d88-b707-9d963952556e",
   "metadata": {},
   "outputs": [
    {
     "data": {
      "text/plain": [
       "10"
      ]
     },
     "execution_count": 17,
     "metadata": {},
     "output_type": "execute_result"
    }
   ],
   "source": [
    "#                                             ANSWER 5\n",
    "set_animal = {\"Donkey\",\"Tiger\",\"Panther\",\"Leopard\",\"Cheetah\",\"Elephant\",\"Polar\",\"bear\",\"Turtle\",\"Crocodile\"}\n",
    "len(set_animal)"
   ]
  },
  {
   "cell_type": "code",
   "execution_count": null,
   "id": "fca3ae9a-c6c3-46fb-be3a-362531b7cf80",
   "metadata": {},
   "outputs": [],
   "source": []
  },
  {
   "cell_type": "code",
   "execution_count": null,
   "id": "6755bd47-72f6-4f7f-8183-c2185db4fc88",
   "metadata": {},
   "outputs": [],
   "source": []
  },
  {
   "cell_type": "code",
   "execution_count": null,
   "id": "8cc797a9-6891-41e8-b2f0-c689d8de5fb9",
   "metadata": {},
   "outputs": [],
   "source": []
  }
 ],
 "metadata": {
  "kernelspec": {
   "display_name": "Python 3 (ipykernel)",
   "language": "python",
   "name": "python3"
  },
  "language_info": {
   "codemirror_mode": {
    "name": "ipython",
    "version": 3
   },
   "file_extension": ".py",
   "mimetype": "text/x-python",
   "name": "python",
   "nbconvert_exporter": "python",
   "pygments_lexer": "ipython3",
   "version": "3.10.6"
  }
 },
 "nbformat": 4,
 "nbformat_minor": 5
}
